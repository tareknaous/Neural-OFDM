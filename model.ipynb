{
  "nbformat": 4,
  "nbformat_minor": 0,
  "metadata": {
    "colab": {
      "name": "Neural-OFDM-Receiver.ipynb",
      "provenance": [],
      "collapsed_sections": []
    },
    "kernelspec": {
      "name": "python3",
      "display_name": "Python 3"
    }
  },
  "cells": [
    {
      "cell_type": "code",
      "metadata": {
        "id": "-qOOHLbpaLPq"
      },
      "source": [
        "#Data loading and preprocessing\r\n",
        "import pandas as pd \r\n",
        "import numpy as np"
      ],
      "execution_count": 9,
      "outputs": []
    },
    {
      "cell_type": "code",
      "metadata": {
        "colab": {
          "base_uri": "https://localhost:8080/",
          "height": 411
        },
        "id": "1xk000i2aPEQ",
        "outputId": "a1f739ff-6351-41ff-d18e-ad9ea2e5da9d"
      },
      "source": [
        "#Load dataset\r\n",
        "dataset = pd.read_csv(\"datasets/SNR_20.csv\")\r\n",
        "dataset.head(5)"
      ],
      "execution_count": 19,
      "outputs": [
        {
          "output_type": "execute_result",
          "data": {
            "text/html": [
              "<div>\n",
              "<style scoped>\n",
              "    .dataframe tbody tr th:only-of-type {\n",
              "        vertical-align: middle;\n",
              "    }\n",
              "\n",
              "    .dataframe tbody tr th {\n",
              "        vertical-align: top;\n",
              "    }\n",
              "\n",
              "    .dataframe thead th {\n",
              "        text-align: right;\n",
              "    }\n",
              "</style>\n",
              "<table border=\"1\" class=\"dataframe\">\n",
              "  <thead>\n",
              "    <tr style=\"text-align: right;\">\n",
              "      <th></th>\n",
              "      <th>Unnamed: 0</th>\n",
              "      <th>received_signal_real_0</th>\n",
              "      <th>received_signal_real_1</th>\n",
              "      <th>received_signal_real_2</th>\n",
              "      <th>received_signal_real_3</th>\n",
              "      <th>received_signal_real_4</th>\n",
              "      <th>received_signal_real_5</th>\n",
              "      <th>received_signal_real_6</th>\n",
              "      <th>received_signal_real_7</th>\n",
              "      <th>received_signal_imaginary_0</th>\n",
              "      <th>received_signal_imaginary_1</th>\n",
              "      <th>received_signal_imaginary_2</th>\n",
              "      <th>received_signal_imaginary_3</th>\n",
              "      <th>received_signal_imaginary_4</th>\n",
              "      <th>received_signal_imaginary_5</th>\n",
              "      <th>received_signal_imaginary_6</th>\n",
              "      <th>received_signal_imaginary_7</th>\n",
              "      <th>channel</th>\n",
              "      <th>transmitted_bits_0</th>\n",
              "      <th>transmitted_bits_1</th>\n",
              "      <th>transmitted_bits_2</th>\n",
              "      <th>transmitted_bits_3</th>\n",
              "      <th>transmitted_bits_4</th>\n",
              "      <th>transmitted_bits_5</th>\n",
              "      <th>transmitted_bits_6</th>\n",
              "      <th>transmitted_bits_7</th>\n",
              "      <th>transmitted_bits_8</th>\n",
              "      <th>transmitted_bits_9</th>\n",
              "      <th>transmitted_bits_10</th>\n",
              "      <th>transmitted_bits_11</th>\n",
              "      <th>optimal_OFDM_BER</th>\n",
              "    </tr>\n",
              "  </thead>\n",
              "  <tbody>\n",
              "    <tr>\n",
              "      <th>0</th>\n",
              "      <td>0</td>\n",
              "      <td>3.001762</td>\n",
              "      <td>-4.580632</td>\n",
              "      <td>2.490680</td>\n",
              "      <td>-0.578107</td>\n",
              "      <td>2.795580</td>\n",
              "      <td>-1.503200</td>\n",
              "      <td>3.125641</td>\n",
              "      <td>1.421548</td>\n",
              "      <td>5.196654</td>\n",
              "      <td>-2.844841</td>\n",
              "      <td>0.960775</td>\n",
              "      <td>-1.255957</td>\n",
              "      <td>4.985869</td>\n",
              "      <td>-0.693276</td>\n",
              "      <td>1.417358</td>\n",
              "      <td>3.244947</td>\n",
              "      <td>[1. +0.j  0. +0.j  0.3+0.3j]</td>\n",
              "      <td>0</td>\n",
              "      <td>0</td>\n",
              "      <td>0</td>\n",
              "      <td>0</td>\n",
              "      <td>0</td>\n",
              "      <td>1</td>\n",
              "      <td>0</td>\n",
              "      <td>1</td>\n",
              "      <td>0</td>\n",
              "      <td>1</td>\n",
              "      <td>0</td>\n",
              "      <td>1</td>\n",
              "      <td>0.000000</td>\n",
              "    </tr>\n",
              "    <tr>\n",
              "      <th>1</th>\n",
              "      <td>1</td>\n",
              "      <td>2.669055</td>\n",
              "      <td>3.011873</td>\n",
              "      <td>3.014480</td>\n",
              "      <td>0.970410</td>\n",
              "      <td>2.816612</td>\n",
              "      <td>4.944164</td>\n",
              "      <td>3.240250</td>\n",
              "      <td>0.826746</td>\n",
              "      <td>4.403751</td>\n",
              "      <td>-4.754855</td>\n",
              "      <td>1.046819</td>\n",
              "      <td>2.987016</td>\n",
              "      <td>5.115613</td>\n",
              "      <td>3.037655</td>\n",
              "      <td>1.242330</td>\n",
              "      <td>2.520570</td>\n",
              "      <td>[1. +0.j  0. +0.j  0.3+0.3j]</td>\n",
              "      <td>1</td>\n",
              "      <td>0</td>\n",
              "      <td>0</td>\n",
              "      <td>0</td>\n",
              "      <td>1</td>\n",
              "      <td>0</td>\n",
              "      <td>1</td>\n",
              "      <td>0</td>\n",
              "      <td>1</td>\n",
              "      <td>0</td>\n",
              "      <td>1</td>\n",
              "      <td>0</td>\n",
              "      <td>0.083333</td>\n",
              "    </tr>\n",
              "    <tr>\n",
              "      <th>2</th>\n",
              "      <td>2</td>\n",
              "      <td>2.632133</td>\n",
              "      <td>2.911608</td>\n",
              "      <td>2.514619</td>\n",
              "      <td>-1.924853</td>\n",
              "      <td>3.504592</td>\n",
              "      <td>1.186973</td>\n",
              "      <td>2.789156</td>\n",
              "      <td>1.725545</td>\n",
              "      <td>5.145146</td>\n",
              "      <td>-4.356428</td>\n",
              "      <td>1.235730</td>\n",
              "      <td>-1.279845</td>\n",
              "      <td>4.943174</td>\n",
              "      <td>0.938635</td>\n",
              "      <td>1.034576</td>\n",
              "      <td>2.925029</td>\n",
              "      <td>[1. +0.j  0. +0.j  0.3+0.3j]</td>\n",
              "      <td>1</td>\n",
              "      <td>0</td>\n",
              "      <td>0</td>\n",
              "      <td>0</td>\n",
              "      <td>0</td>\n",
              "      <td>0</td>\n",
              "      <td>0</td>\n",
              "      <td>1</td>\n",
              "      <td>1</td>\n",
              "      <td>1</td>\n",
              "      <td>1</td>\n",
              "      <td>1</td>\n",
              "      <td>0.083333</td>\n",
              "    </tr>\n",
              "    <tr>\n",
              "      <th>3</th>\n",
              "      <td>3</td>\n",
              "      <td>2.529888</td>\n",
              "      <td>4.006828</td>\n",
              "      <td>2.768672</td>\n",
              "      <td>-0.599116</td>\n",
              "      <td>3.388057</td>\n",
              "      <td>4.398308</td>\n",
              "      <td>2.675267</td>\n",
              "      <td>0.847009</td>\n",
              "      <td>4.847335</td>\n",
              "      <td>0.422788</td>\n",
              "      <td>1.025481</td>\n",
              "      <td>2.525339</td>\n",
              "      <td>4.813047</td>\n",
              "      <td>3.146778</td>\n",
              "      <td>1.103249</td>\n",
              "      <td>2.906121</td>\n",
              "      <td>[1. +0.j  0. +0.j  0.3+0.3j]</td>\n",
              "      <td>1</td>\n",
              "      <td>0</td>\n",
              "      <td>1</td>\n",
              "      <td>1</td>\n",
              "      <td>1</td>\n",
              "      <td>1</td>\n",
              "      <td>1</td>\n",
              "      <td>0</td>\n",
              "      <td>1</td>\n",
              "      <td>0</td>\n",
              "      <td>1</td>\n",
              "      <td>0</td>\n",
              "      <td>0.083333</td>\n",
              "    </tr>\n",
              "    <tr>\n",
              "      <th>4</th>\n",
              "      <td>4</td>\n",
              "      <td>3.039367</td>\n",
              "      <td>1.142946</td>\n",
              "      <td>3.196247</td>\n",
              "      <td>1.477741</td>\n",
              "      <td>3.657999</td>\n",
              "      <td>4.352656</td>\n",
              "      <td>2.696841</td>\n",
              "      <td>0.835797</td>\n",
              "      <td>4.705504</td>\n",
              "      <td>-1.235550</td>\n",
              "      <td>1.483852</td>\n",
              "      <td>-0.339612</td>\n",
              "      <td>4.811335</td>\n",
              "      <td>3.058956</td>\n",
              "      <td>1.180234</td>\n",
              "      <td>2.873091</td>\n",
              "      <td>[1. +0.j  0. +0.j  0.3+0.3j]</td>\n",
              "      <td>1</td>\n",
              "      <td>1</td>\n",
              "      <td>0</td>\n",
              "      <td>1</td>\n",
              "      <td>1</td>\n",
              "      <td>1</td>\n",
              "      <td>0</td>\n",
              "      <td>1</td>\n",
              "      <td>1</td>\n",
              "      <td>0</td>\n",
              "      <td>1</td>\n",
              "      <td>0</td>\n",
              "      <td>0.000000</td>\n",
              "    </tr>\n",
              "  </tbody>\n",
              "</table>\n",
              "</div>"
            ],
            "text/plain": [
              "   Unnamed: 0  received_signal_real_0  ...  transmitted_bits_11  optimal_OFDM_BER\n",
              "0           0                3.001762  ...                    1          0.000000\n",
              "1           1                2.669055  ...                    0          0.083333\n",
              "2           2                2.632133  ...                    1          0.083333\n",
              "3           3                2.529888  ...                    0          0.083333\n",
              "4           4                3.039367  ...                    0          0.000000\n",
              "\n",
              "[5 rows x 31 columns]"
            ]
          },
          "metadata": {
            "tags": []
          },
          "execution_count": 19
        }
      ]
    },
    {
      "cell_type": "code",
      "metadata": {
        "colab": {
          "base_uri": "https://localhost:8080/"
        },
        "id": "njdtKuBiaYcm",
        "outputId": "bb1e835b-384d-4931-a808-daacc69ebcd2"
      },
      "source": [
        "#Load features (X) and targets (Y) from the dataset\r\n",
        "#X represents real and imaginary parts of the received IQ symbols\r\n",
        "#Y represents the transmitted binary stream we would like to recover (12 bits in this example)\r\n",
        "\r\n",
        "X = dataset.iloc[:,1:17]\r\n",
        "X = X.values\r\n",
        "Y_bits = dataset.iloc[:,18:30]\r\n",
        "Y = Y_bits.values\r\n",
        "\r\n",
        "print(\"Dimensions of X:\", X.shape)\r\n",
        "print(\"Dimensions of Y:\", Y.shape)\r\n",
        "print(Y)"
      ],
      "execution_count": 20,
      "outputs": [
        {
          "output_type": "stream",
          "text": [
            "Dimensions of X: (500000, 16)\n",
            "Dimensions of Y: (500000, 12)\n",
            "[[0 0 0 ... 1 0 1]\n",
            " [1 0 0 ... 0 1 0]\n",
            " [1 0 0 ... 1 1 1]\n",
            " ...\n",
            " [1 0 0 ... 0 0 0]\n",
            " [1 0 1 ... 1 0 1]\n",
            " [1 0 0 ... 1 1 0]]\n"
          ],
          "name": "stdout"
        }
      ]
    },
    {
      "cell_type": "markdown",
      "metadata": {
        "id": "6sJUOeSWbeb5"
      },
      "source": [
        "**Dataset Pre-processing**"
      ]
    },
    {
      "cell_type": "code",
      "metadata": {
        "colab": {
          "base_uri": "https://localhost:8080/"
        },
        "id": "Io3O8lKMaasF",
        "outputId": "f49c3efa-8fbc-418e-dae7-867aee6fdc09"
      },
      "source": [
        "#Import the standard scaler from sklearn preprocessing tools\r\n",
        "from sklearn.preprocessing import StandardScaler\r\n",
        "\r\n",
        "#Scale the IQ samples using the standard scaler\r\n",
        "scaler = StandardScaler()\r\n",
        "scaler.fit(X)\r\n",
        "X = scaler.transform(X)\r\n",
        "print(X)"
      ],
      "execution_count": 21,
      "outputs": [
        {
          "output_type": "stream",
          "text": [
            "[[-0.27294355 -1.24514648 -0.71433129 ... -0.23236226 -1.20995895\n",
            "  -0.94407788]\n",
            " [-0.41708298  0.80596071 -0.46508701 ...  0.95792137 -1.29220764\n",
            "  -1.36892649]\n",
            " [-0.43307855  0.77887419 -0.70294016 ...  0.2882682  -1.38983476\n",
            "  -1.13171064]\n",
            " ...\n",
            " [-0.12041531  0.50561184 -0.564127   ... -0.46442125  0.30988987\n",
            "   0.66585048]\n",
            " [-0.35014158  1.0725886  -0.49550381 ... -0.1936418   0.31819774\n",
            "   0.80657128]\n",
            " [-0.17684876  0.7082978  -0.51265087 ...  0.00515121  0.15481505\n",
            "   0.78732333]]\n"
          ],
          "name": "stdout"
        }
      ]
    },
    {
      "cell_type": "code",
      "metadata": {
        "colab": {
          "base_uri": "https://localhost:8080/"
        },
        "id": "O9-eT7VbacWG",
        "outputId": "15d14b6e-0f18-40db-ab67-aab07cb9378a"
      },
      "source": [
        "from sklearn.model_selection import train_test_split\r\n",
        "\r\n",
        "#Reading Question/Answer responses for decoder/encoder\r\n",
        "X_train, X_test, y_train, y_test = train_test_split(X, Y, test_size=0.1, random_state=42)\r\n",
        "\r\n",
        "print(\"Number of training samples:\", len(X_train))\r\n",
        "print(\"Number of test samples\", len(X_test))"
      ],
      "execution_count": 22,
      "outputs": [
        {
          "output_type": "stream",
          "text": [
            "Number of training samples: 450000\n",
            "Number of test samples 50000\n"
          ],
          "name": "stdout"
        }
      ]
    },
    {
      "cell_type": "markdown",
      "metadata": {
        "id": "23OANk-NazDb"
      },
      "source": [
        "**Model Building**"
      ]
    },
    {
      "cell_type": "code",
      "metadata": {
        "id": "6jqN5TNbayFy"
      },
      "source": [
        "#Import modules for neural network building and training\r\n",
        "import tensorflow as tf\r\n",
        "from keras.models import Model\r\n",
        "from keras.layers import Input, Dense, Dropout\r\n",
        "from keras.utils import plot_model"
      ],
      "execution_count": 23,
      "outputs": []
    },
    {
      "cell_type": "code",
      "metadata": {
        "id": "EgvvkImIahn3"
      },
      "source": [
        "#Define Neural Network Architecture\r\n",
        "def model_builder():\r\n",
        "  input  = Input(shape=(16,), name=\"model_input\")\r\n",
        "  dense1 = Dense(50, activation='relu')(input)\r\n",
        "  dropout1 = Dropout(0.35)(dense1)\r\n",
        "  dense2 = Dense(50, activation='relu')(dropout1)\r\n",
        "  dropout2 = Dropout(0.35)(dense2)\r\n",
        "  dense3 = Dense(50, activation='relu')(dropout2)\r\n",
        "  dropout3 = Dropout(0.35)(dense3)\r\n",
        "  dense4 = Dense(50, activation='relu')(dropout3)\r\n",
        "  output1 = Dense(12, activation = 'sigmoid', name=\"Output_bits\")(dense4)\r\n",
        "\r\n",
        "  model = Model([input], [output1])\r\n",
        "\r\n",
        "  return model"
      ],
      "execution_count": 24,
      "outputs": []
    },
    {
      "cell_type": "code",
      "metadata": {
        "id": "EWtNkgEVajKg"
      },
      "source": [
        "#Build and compile model\r\n",
        "model = model_builder()\r\n",
        "model.compile(\r\n",
        "    optimizer=\"sgd\",\r\n",
        "    loss={\r\n",
        "        \"Output_bits\": 'mean_squared_error',\r\n",
        "        },\r\n",
        "    metrics=[\"mse\"]\r\n",
        ")"
      ],
      "execution_count": 25,
      "outputs": []
    },
    {
      "cell_type": "markdown",
      "metadata": {
        "id": "z6NJg0iWuE54"
      },
      "source": [
        "**Model Training**"
      ]
    },
    {
      "cell_type": "code",
      "metadata": {
        "colab": {
          "base_uri": "https://localhost:8080/"
        },
        "id": "KANoTR2takpT",
        "outputId": "18aabbab-7587-443c-e50d-f6c293841b8e"
      },
      "source": [
        "#Train the model\r\n",
        "model.fit(\r\n",
        "    {\"model_input\": X_train},\r\n",
        "    {\"Output_bits\": y_train},\r\n",
        "    epochs=50,\r\n",
        "    batch_size=20,\r\n",
        "    validation_split=0.1\r\n",
        ")"
      ],
      "execution_count": 26,
      "outputs": [
        {
          "output_type": "stream",
          "text": [
            "Epoch 1/50\n",
            "20250/20250 [==============================] - 25s 1ms/step - loss: 0.2495 - mse: 0.2495 - val_loss: 0.2278 - val_mse: 0.2278\n",
            "Epoch 2/50\n",
            "20250/20250 [==============================] - 25s 1ms/step - loss: 0.2307 - mse: 0.2307 - val_loss: 0.1986 - val_mse: 0.1986\n",
            "Epoch 3/50\n",
            "20250/20250 [==============================] - 27s 1ms/step - loss: 0.2131 - mse: 0.2131 - val_loss: 0.1782 - val_mse: 0.1782\n",
            "Epoch 4/50\n",
            "20250/20250 [==============================] - 24s 1ms/step - loss: 0.2015 - mse: 0.2015 - val_loss: 0.1631 - val_mse: 0.1631\n",
            "Epoch 5/50\n",
            "20250/20250 [==============================] - 24s 1ms/step - loss: 0.1930 - mse: 0.1930 - val_loss: 0.1507 - val_mse: 0.1507\n",
            "Epoch 6/50\n",
            "20250/20250 [==============================] - 25s 1ms/step - loss: 0.1863 - mse: 0.1863 - val_loss: 0.1404 - val_mse: 0.1404\n",
            "Epoch 7/50\n",
            "20250/20250 [==============================] - 25s 1ms/step - loss: 0.1802 - mse: 0.1802 - val_loss: 0.1312 - val_mse: 0.1312\n",
            "Epoch 8/50\n",
            "20250/20250 [==============================] - 24s 1ms/step - loss: 0.1748 - mse: 0.1748 - val_loss: 0.1232 - val_mse: 0.1232\n",
            "Epoch 9/50\n",
            "20250/20250 [==============================] - 24s 1ms/step - loss: 0.1698 - mse: 0.1698 - val_loss: 0.1157 - val_mse: 0.1157\n",
            "Epoch 10/50\n",
            "20250/20250 [==============================] - 24s 1ms/step - loss: 0.1652 - mse: 0.1652 - val_loss: 0.1097 - val_mse: 0.1097\n",
            "Epoch 11/50\n",
            "20250/20250 [==============================] - 24s 1ms/step - loss: 0.1614 - mse: 0.1614 - val_loss: 0.1047 - val_mse: 0.1047\n",
            "Epoch 12/50\n",
            "20250/20250 [==============================] - 24s 1ms/step - loss: 0.1574 - mse: 0.1574 - val_loss: 0.1004 - val_mse: 0.1004\n",
            "Epoch 13/50\n",
            "20250/20250 [==============================] - 30s 1ms/step - loss: 0.1543 - mse: 0.1543 - val_loss: 0.0968 - val_mse: 0.0968\n",
            "Epoch 14/50\n",
            "20250/20250 [==============================] - 25s 1ms/step - loss: 0.1509 - mse: 0.1509 - val_loss: 0.0936 - val_mse: 0.0936\n",
            "Epoch 15/50\n",
            "20250/20250 [==============================] - 25s 1ms/step - loss: 0.1485 - mse: 0.1485 - val_loss: 0.0911 - val_mse: 0.0911\n",
            "Epoch 16/50\n",
            "20250/20250 [==============================] - 25s 1ms/step - loss: 0.1455 - mse: 0.1455 - val_loss: 0.0887 - val_mse: 0.0887\n",
            "Epoch 17/50\n",
            "20250/20250 [==============================] - 25s 1ms/step - loss: 0.1433 - mse: 0.1433 - val_loss: 0.0864 - val_mse: 0.0864\n",
            "Epoch 18/50\n",
            "20250/20250 [==============================] - 24s 1ms/step - loss: 0.1408 - mse: 0.1408 - val_loss: 0.0843 - val_mse: 0.0843\n",
            "Epoch 19/50\n",
            "20250/20250 [==============================] - 24s 1ms/step - loss: 0.1385 - mse: 0.1385 - val_loss: 0.0823 - val_mse: 0.0823\n",
            "Epoch 20/50\n",
            "20250/20250 [==============================] - 24s 1ms/step - loss: 0.1361 - mse: 0.1361 - val_loss: 0.0805 - val_mse: 0.0805\n",
            "Epoch 21/50\n",
            "20250/20250 [==============================] - 24s 1ms/step - loss: 0.1337 - mse: 0.1337 - val_loss: 0.0786 - val_mse: 0.0786\n",
            "Epoch 22/50\n",
            "20250/20250 [==============================] - 25s 1ms/step - loss: 0.1316 - mse: 0.1316 - val_loss: 0.0767 - val_mse: 0.0767\n",
            "Epoch 23/50\n",
            "20250/20250 [==============================] - 24s 1ms/step - loss: 0.1292 - mse: 0.1292 - val_loss: 0.0749 - val_mse: 0.0749\n",
            "Epoch 24/50\n",
            "20250/20250 [==============================] - 24s 1ms/step - loss: 0.1271 - mse: 0.1271 - val_loss: 0.0731 - val_mse: 0.0731\n",
            "Epoch 25/50\n",
            "20250/20250 [==============================] - 25s 1ms/step - loss: 0.1250 - mse: 0.1250 - val_loss: 0.0718 - val_mse: 0.0718\n",
            "Epoch 26/50\n",
            "20250/20250 [==============================] - 24s 1ms/step - loss: 0.1230 - mse: 0.1230 - val_loss: 0.0701 - val_mse: 0.0701\n",
            "Epoch 27/50\n",
            "20250/20250 [==============================] - 24s 1ms/step - loss: 0.1211 - mse: 0.1211 - val_loss: 0.0688 - val_mse: 0.0688\n",
            "Epoch 28/50\n",
            "20250/20250 [==============================] - 26s 1ms/step - loss: 0.1190 - mse: 0.1190 - val_loss: 0.0668 - val_mse: 0.0668\n",
            "Epoch 29/50\n",
            "20250/20250 [==============================] - 25s 1ms/step - loss: 0.1170 - mse: 0.1170 - val_loss: 0.0650 - val_mse: 0.0650\n",
            "Epoch 30/50\n",
            "20250/20250 [==============================] - 24s 1ms/step - loss: 0.1153 - mse: 0.1153 - val_loss: 0.0640 - val_mse: 0.0640\n",
            "Epoch 31/50\n",
            "20250/20250 [==============================] - 24s 1ms/step - loss: 0.1134 - mse: 0.1134 - val_loss: 0.0620 - val_mse: 0.0620\n",
            "Epoch 32/50\n",
            "20250/20250 [==============================] - 24s 1ms/step - loss: 0.1119 - mse: 0.1119 - val_loss: 0.0624 - val_mse: 0.0624\n",
            "Epoch 33/50\n",
            "20250/20250 [==============================] - 24s 1ms/step - loss: 0.1104 - mse: 0.1104 - val_loss: 0.0598 - val_mse: 0.0598\n",
            "Epoch 34/50\n",
            "20250/20250 [==============================] - 24s 1ms/step - loss: 0.1092 - mse: 0.1092 - val_loss: 0.0596 - val_mse: 0.0596\n",
            "Epoch 35/50\n",
            "20250/20250 [==============================] - 24s 1ms/step - loss: 0.1079 - mse: 0.1079 - val_loss: 0.0589 - val_mse: 0.0589\n",
            "Epoch 36/50\n",
            "20250/20250 [==============================] - 24s 1ms/step - loss: 0.1068 - mse: 0.1068 - val_loss: 0.0580 - val_mse: 0.0580\n",
            "Epoch 37/50\n",
            "20250/20250 [==============================] - 24s 1ms/step - loss: 0.1056 - mse: 0.1056 - val_loss: 0.0568 - val_mse: 0.0568\n",
            "Epoch 38/50\n",
            "20250/20250 [==============================] - 25s 1ms/step - loss: 0.1046 - mse: 0.1046 - val_loss: 0.0571 - val_mse: 0.0571\n",
            "Epoch 39/50\n",
            "20250/20250 [==============================] - 24s 1ms/step - loss: 0.1041 - mse: 0.1041 - val_loss: 0.0561 - val_mse: 0.0561\n",
            "Epoch 40/50\n",
            "20250/20250 [==============================] - 24s 1ms/step - loss: 0.1030 - mse: 0.1030 - val_loss: 0.0553 - val_mse: 0.0553\n",
            "Epoch 41/50\n",
            "20250/20250 [==============================] - 25s 1ms/step - loss: 0.1026 - mse: 0.1026 - val_loss: 0.0555 - val_mse: 0.0555\n",
            "Epoch 42/50\n",
            "20250/20250 [==============================] - 25s 1ms/step - loss: 0.1020 - mse: 0.1020 - val_loss: 0.0549 - val_mse: 0.0549\n",
            "Epoch 43/50\n",
            "20250/20250 [==============================] - 24s 1ms/step - loss: 0.1016 - mse: 0.1016 - val_loss: 0.0553 - val_mse: 0.0553\n",
            "Epoch 44/50\n",
            "20250/20250 [==============================] - 24s 1ms/step - loss: 0.1010 - mse: 0.1010 - val_loss: 0.0541 - val_mse: 0.0541\n",
            "Epoch 45/50\n",
            "20250/20250 [==============================] - 24s 1ms/step - loss: 0.1005 - mse: 0.1005 - val_loss: 0.0542 - val_mse: 0.0542\n",
            "Epoch 46/50\n",
            "20250/20250 [==============================] - 24s 1ms/step - loss: 0.1001 - mse: 0.1001 - val_loss: 0.0537 - val_mse: 0.0537\n",
            "Epoch 47/50\n",
            "20250/20250 [==============================] - 25s 1ms/step - loss: 0.0996 - mse: 0.0996 - val_loss: 0.0541 - val_mse: 0.0541\n",
            "Epoch 48/50\n",
            "20250/20250 [==============================] - 25s 1ms/step - loss: 0.0992 - mse: 0.0992 - val_loss: 0.0525 - val_mse: 0.0525\n",
            "Epoch 49/50\n",
            "20250/20250 [==============================] - 25s 1ms/step - loss: 0.0987 - mse: 0.0987 - val_loss: 0.0534 - val_mse: 0.0534\n",
            "Epoch 50/50\n",
            "20250/20250 [==============================] - 25s 1ms/step - loss: 0.0984 - mse: 0.0984 - val_loss: 0.0531 - val_mse: 0.0531\n"
          ],
          "name": "stdout"
        },
        {
          "output_type": "execute_result",
          "data": {
            "text/plain": [
              "<tensorflow.python.keras.callbacks.History at 0x7f409c1c9c18>"
            ]
          },
          "metadata": {
            "tags": []
          },
          "execution_count": 26
        }
      ]
    },
    {
      "cell_type": "markdown",
      "metadata": {
        "id": "wYP8P9K6fodg"
      },
      "source": [
        "**Predictions on the test set**"
      ]
    },
    {
      "cell_type": "code",
      "metadata": {
        "id": "wUJVH1qdbS3Q"
      },
      "source": [
        "#Predict on test set\r\n",
        "predictions = model.predict(X_test)\r\n",
        "\r\n",
        "#Map predictions to 0s and 1s\r\n",
        "for i in range(0,len(X_test)):\r\n",
        "  for j in range(0,12):\r\n",
        "    if predictions[i][j] > 0.5:\r\n",
        "      predictions[i][j] = 1\r\n",
        "    else:\r\n",
        "      predictions[i][j] = 0"
      ],
      "execution_count": 29,
      "outputs": []
    },
    {
      "cell_type": "markdown",
      "metadata": {
        "id": "zj0EcD2ifxgy"
      },
      "source": [
        "**Evaluation in terms of Bit-Error-Rate (BER)**"
      ]
    },
    {
      "cell_type": "code",
      "metadata": {
        "colab": {
          "base_uri": "https://localhost:8080/"
        },
        "id": "EHWz1ALZbWle",
        "outputId": "92de7d71-c3b3-4f08-a6cc-230467e80d2f"
      },
      "source": [
        "#Compute BER on test set predictions\r\n",
        "errors = 0\r\n",
        "BER = 0\r\n",
        "for i in range(0,len(X_test)):\r\n",
        "  for j in range(0,12):\r\n",
        "    if predictions[i][j] != y_test[i][j]:\r\n",
        "      errors+=1\r\n",
        "  BER = BER + errors/12\r\n",
        "  errors = 0\r\n",
        "BER = BER/len(X_test)\r\n",
        "\r\n",
        "print(\"Model BER:\", BER)\r\n",
        "print(\"Conventional OFDM BER:\", sum(dataset.optimal_OFDM_BER)/len(dataset.optimal_OFDM_BER))"
      ],
      "execution_count": 30,
      "outputs": [
        {
          "output_type": "stream",
          "text": [
            "Model BER: 0.06293666666667244\n",
            "Conventional OFDM BER: 0.11163216666634748\n"
          ],
          "name": "stdout"
        }
      ]
    }
  ]
}